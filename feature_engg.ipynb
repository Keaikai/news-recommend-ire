{
 "cells": [
  {
   "cell_type": "code",
   "execution_count": 11,
   "metadata": {
    "collapsed": true
   },
   "outputs": [],
   "source": [
    "from sklearn.feature_extraction.text import CountVectorizer\n",
    "from sklearn.feature_extraction.text import TfidfTransformer\n",
    "import numpy as np\n",
    "import nltk.data\n",
    "from bs4 import BeautifulSoup\n",
    "import re\n",
    "from nltk.corpus import stopwords\n",
    "import logging\n",
    "from gensim.models import Word2Vec,KeyedVectors\n",
    "import pandas as pd\n",
    "from nltk.stem.porter import PorterStemmer\n",
    "from stemming.porter2 import stem\n",
    "import json"
   ]
  },
  {
   "cell_type": "code",
   "execution_count": 16,
   "metadata": {
    "collapsed": true
   },
   "outputs": [],
   "source": [
    "# function to parse sentences to words and remove stopwords from sentence\n",
    "def sentence_to_wordlist( sentence, remove_stopwords=True ):\n",
    "    # Function to convert a document to a sequence of words,\n",
    "    # optionally removing stop words.  Returns a list of words.\n",
    "    #\n",
    "    # 1. Remove HTML\n",
    "    #text = BeautifulSoup(sentence).get_text()\n",
    "    #  \n",
    "    # 2. Remove non-letters\n",
    "    text = re.sub(\"[^a-zA-Z]\",\" \",sentence)\n",
    "    #\n",
    "    # 3. Convert words to lower case and split them\n",
    "    words = text.lower().split()\n",
    "    #\n",
    "    # 4. Optionally remove stop words (false by default)\n",
    "    if remove_stopwords:\n",
    "        stops = set(stopwords.words(\"english\"))\n",
    "        words = [w for w in words if not w in stops]\n",
    "    #\n",
    "    # 5. Return a list of words\n",
    "    return(words)"
   ]
  },
  {
   "cell_type": "code",
   "execution_count": 3,
   "metadata": {
    "collapsed": true
   },
   "outputs": [],
   "source": [
    "# function to parse text to sentences using tokenizer mentioned above\n",
    "def text_to_sentences(text,tokenizer,remove_stopwords=True):\n",
    "    raw_sentences = tokenizer.tokenize(text.strip())\n",
    "    sentences = []\n",
    "    for raw_sentence in raw_sentences:\n",
    "        # If a sentence is empty, skip it\n",
    "        if len(raw_sentence) > 0:\n",
    "            # Otherwise, call review_to_wordlist to get a list of words\n",
    "            sentences.append( sentence_to_wordlist( raw_sentence, \\\n",
    "              remove_stopwords ))\n",
    "    #\n",
    "    # Return the list of sentences (each sentence is a list of words,\n",
    "    # so this returns a list of lists\n",
    "    return sentences"
   ]
  },
  {
   "cell_type": "code",
   "execution_count": 4,
   "metadata": {
    "collapsed": true
   },
   "outputs": [],
   "source": [
    "with open('en_articles_unique.json') as data_file:\n",
    "    data = json.load(data_file)"
   ]
  },
  {
   "cell_type": "code",
   "execution_count": 6,
   "metadata": {
    "collapsed": true
   },
   "outputs": [],
   "source": [
    "text_list = []\n",
    "for attribute,value in data.iteritems():\n",
    "    text_list.append(value)"
   ]
  },
  {
   "cell_type": "code",
   "execution_count": 10,
   "metadata": {
    "collapsed": false
   },
   "outputs": [
    {
     "data": {
      "text/plain": [
       "(10852, 80268)"
      ]
     },
     "execution_count": 10,
     "metadata": {},
     "output_type": "execute_result"
    }
   ],
   "source": [
    "count_vect = CountVectorizer()\n",
    "feature_vecs = count_vect.fit_transform(text_list)\n",
    "feature_vecs.shape"
   ]
  },
  {
   "cell_type": "code",
   "execution_count": 12,
   "metadata": {
    "collapsed": false
   },
   "outputs": [
    {
     "data": {
      "text/plain": [
       "(10852, 80268)"
      ]
     },
     "execution_count": 12,
     "metadata": {},
     "output_type": "execute_result"
    }
   ],
   "source": [
    "tfidf_transformer = TfidfTransformer()\n",
    "feature_vecs_tfidf = tfidf_transformer.fit_transform(feature_vecs)\n",
    "feature_vecs_tfidf.shape"
   ]
  },
  {
   "cell_type": "code",
   "execution_count": 17,
   "metadata": {
    "collapsed": false
   },
   "outputs": [],
   "source": [
    "sentences = []\n",
    "tokenizer = nltk.data.load('tokenizers/punkt/english.pickle')\n",
    "for text in text_list:\n",
    "    sentences += [[stem(str(word)) for word in sentence] \\\n",
    "                        for sentence in [text_to_sentences(text, tokenizer)]]"
   ]
  },
  {
   "cell_type": "code",
   "execution_count": 18,
   "metadata": {
    "collapsed": false
   },
   "outputs": [
    {
     "name": "stdout",
     "output_type": "stream",
     "text": [
      "10852\n"
     ]
    }
   ],
   "source": [
    "print len(sentences)"
   ]
  },
  {
   "cell_type": "code",
   "execution_count": 59,
   "metadata": {
    "collapsed": false
   },
   "outputs": [
    {
     "name": "stderr",
     "output_type": "stream",
     "text": [
      "2017-10-22 15:21:24,003 : INFO : collecting all words and their counts\n",
      "2017-10-22 15:21:24,004 : INFO : PROGRESS: at sentence #0, processed 0 words, keeping 0 word types\n",
      "2017-10-22 15:21:24,157 : INFO : PROGRESS: at sentence #10000, processed 196961 words, keeping 177834 word types\n",
      "2017-10-22 15:21:24,174 : INFO : collected 191650 word types from a corpus of 214377 raw words and 10852 sentences\n",
      "2017-10-22 15:21:24,175 : INFO : Loading a fresh vocabulary\n"
     ]
    },
    {
     "name": "stdout",
     "output_type": "stream",
     "text": [
      "Training model...\n"
     ]
    },
    {
     "name": "stderr",
     "output_type": "stream",
     "text": [
      "2017-10-22 15:21:25,113 : INFO : min_count=1 retains 191650 unique words (100% of original 191650, drops 0)\n",
      "2017-10-22 15:21:25,114 : INFO : min_count=1 leaves 214377 word corpus (100% of original 214377, drops 0)\n",
      "2017-10-22 15:21:25,770 : INFO : deleting the raw counts dictionary of 191650 items\n",
      "2017-10-22 15:21:25,776 : INFO : sample=1e-05 downsamples 353 most-common words\n",
      "2017-10-22 15:21:25,778 : INFO : downsampling leaves estimated 211843 word corpus (98.8% of prior 214377)\n",
      "2017-10-22 15:21:25,779 : INFO : estimated required memory for 191650 words and 100 dimensions: 249145000 bytes\n",
      "2017-10-22 15:21:26,405 : INFO : resetting layer weights\n",
      "2017-10-22 15:21:28,901 : INFO : training model with 10 workers on 191650 vocabulary and 100 features, using sg=0 hs=0 sample=1e-05 negative=5 window=10\n",
      "2017-10-22 15:21:28,902 : INFO : expecting 10852 sentences, matching count from corpus used for vocabulary survey\n",
      "2017-10-22 15:21:29,913 : INFO : PROGRESS: at 46.54% examples, 490891 words/s, in_qsize 17, out_qsize 4\n",
      "2017-10-22 15:21:30,676 : INFO : worker thread finished; awaiting finish of 9 more threads\n",
      "2017-10-22 15:21:30,680 : INFO : worker thread finished; awaiting finish of 8 more threads\n",
      "2017-10-22 15:21:30,717 : INFO : worker thread finished; awaiting finish of 7 more threads\n",
      "2017-10-22 15:21:30,721 : INFO : worker thread finished; awaiting finish of 6 more threads\n",
      "2017-10-22 15:21:30,723 : INFO : worker thread finished; awaiting finish of 5 more threads\n",
      "2017-10-22 15:21:30,743 : INFO : worker thread finished; awaiting finish of 4 more threads\n",
      "2017-10-22 15:21:30,762 : INFO : worker thread finished; awaiting finish of 3 more threads\n",
      "2017-10-22 15:21:30,764 : INFO : worker thread finished; awaiting finish of 2 more threads\n",
      "2017-10-22 15:21:30,793 : INFO : worker thread finished; awaiting finish of 1 more threads\n",
      "2017-10-22 15:21:30,795 : INFO : worker thread finished; awaiting finish of 0 more threads\n",
      "2017-10-22 15:21:30,798 : INFO : training on 1071885 raw words (1059245 effective words) took 1.9s, 560136 effective words/s\n",
      "2017-10-22 15:21:30,802 : INFO : precomputing L2-norms of word weight vectors\n",
      "2017-10-22 15:21:31,342 : INFO : saving Word2Vec object under 300features_40minwords_10context, separately None\n",
      "2017-10-22 15:21:31,343 : INFO : not storing attribute syn0norm\n",
      "2017-10-22 15:21:31,345 : INFO : storing np array 'syn0' to 300features_40minwords_10context.wv.syn0.npy\n",
      "2017-10-22 15:21:31,443 : INFO : storing np array 'syn1neg' to 300features_40minwords_10context.syn1neg.npy\n",
      "2017-10-22 15:21:32,974 : INFO : not storing attribute cum_table\n",
      "2017-10-22 15:21:35,457 : INFO : saved 300features_40minwords_10context\n"
     ]
    }
   ],
   "source": [
    "# Import the built-in logging module and configure it so that Word2Vec \n",
    "# creates nice output messages\n",
    "logging.basicConfig(format='%(asctime)s : %(levelname)s : %(message)s',\\\n",
    "    level=logging.INFO)\n",
    "\n",
    "# Set values for various parameters\n",
    "num_features = 50    # Word vector dimensionality                      \n",
    "min_word_count = 2   # Minimum word count                        \n",
    "num_workers = 4       # Number of threads to run in parallel\n",
    "context = 4           # Context window size                                                                                    \n",
    "#downsampling = 1e-5   # Downsample setting for frequent words\n",
    "# Initialize and train the model (this will take some time)\n",
    "\n",
    "print \"Training model...\"\n",
    "model = Word2Vec(sentences, workers=num_workers, \\\n",
    "            size=num_features, min_count = min_word_count, \\\n",
    "            window = context)\n",
    "\n",
    "# If you don't plan to train the model any further, calling \n",
    "# init_sims will make the model much more memory-efficient.\n",
    "model.init_sims(replace=False)\n",
    "\n",
    "# It can be helpful to create a meaningful model name and \n",
    "# save the model for later use. You can load it later using Word2Vec.load()\n",
    "model_name = \"300features_40minwords_10context\"\n",
    "model.save(model_name)\n",
    "#model.save_word2vec_format(model_name,binary=False)"
   ]
  },
  {
   "cell_type": "code",
   "execution_count": 60,
   "metadata": {
    "collapsed": true
   },
   "outputs": [],
   "source": [
    "def makeFeatureVec(words,model,num_features):\n",
    "    # Function to average all of the word vectors in a given\n",
    "    # paragraph\n",
    "    #\n",
    "    # Pre-initialize an empty numpy array (for speed)\n",
    "    featureVec = np.zeros((num_features,),dtype=\"float128\")\n",
    "    #\n",
    "    nwords = 0.\n",
    "    # \n",
    "    # Index2word is a list that contains the names of the words in \n",
    "    # the model's vocabulary. Convert it to a set, for speed \n",
    "    index2word_set = set(model.wv.index2word)\n",
    "    #sorted_set = set(model.sort_vocab())\n",
    "    #\n",
    "    # Loop over each word in the review and, if it is in the model's\n",
    "    # vocaublary, add its feature vector to the total\n",
    "    for word in words:\n",
    "        if word in index2word_set: \n",
    "            nwords = nwords + 1.\n",
    "            featureVec = np.add(featureVec,model[word])\n",
    "    # \n",
    "    # Divide the result by the number of words to get the average\n",
    "    featureVec = np.divide(featureVec,nwords)\n",
    "    return featureVec"
   ]
  },
  {
   "cell_type": "code",
   "execution_count": 61,
   "metadata": {
    "collapsed": true
   },
   "outputs": [],
   "source": [
    "def getAvgFeatureVecs(reviews, model, num_features):\n",
    "    # Given a set of reviews (each one a list of words), calculate \n",
    "    # the average feature vector for each one and return a 2D numpy array \n",
    "    # \n",
    "    # Initialize a counter\n",
    "    counter = 0.\n",
    "    # \n",
    "    # Preallocate a 2D numpy array, for speed\n",
    "    reviewFeatureVecs = np.zeros((len(reviews),num_features),dtype=\"float128\")\n",
    "    # \n",
    "    # Loop through the reviews\n",
    "    for review in reviews:\n",
    "    # Print a status message every 1000th review\n",
    "        if counter%1000. == 0.:\n",
    "            print \"Review %d of %d\" % (counter, len(reviews))\n",
    "\n",
    "    # Call the function (defined above) that makes average feature vectors\n",
    "        reviewFeatureVecs[counter] = makeFeatureVec(review, model, \\\n",
    "           num_features)\n",
    "    # Increment the counter\n",
    "        counter = counter + 1.\n",
    "    return reviewFeatureVecs"
   ]
  },
  {
   "cell_type": "code",
   "execution_count": 62,
   "metadata": {
    "collapsed": false
   },
   "outputs": [
    {
     "name": "stdout",
     "output_type": "stream",
     "text": [
      "Review 0 of 10852\n",
      "Review 1000 of 10852\n",
      "Review 2000 of 10852\n",
      "Review 3000 of 10852\n",
      "Review 4000 of 10852\n",
      "Review 5000 of 10852\n",
      "Review 6000 of 10852\n",
      "Review 7000 of 10852\n",
      "Review 8000 of 10852\n",
      "Review 9000 of 10852\n",
      "Review 10000 of 10852\n"
     ]
    }
   ],
   "source": [
    "DataVecs = getAvgFeatureVecs( sentences, model, num_features )"
   ]
  },
  {
   "cell_type": "code",
   "execution_count": 42,
   "metadata": {
    "collapsed": true
   },
   "outputs": [],
   "source": [
    "df_data = pd.DataFrame(DataVecs)\n",
    "Data = df_data.fillna(lambda x: x.median(),inplace=True)\n",
    "DataVecs = np.array(Data)"
   ]
  },
  {
   "cell_type": "code",
   "execution_count": 63,
   "metadata": {
    "collapsed": false
   },
   "outputs": [
    {
     "data": {
      "text/plain": [
       "(10852, 100)"
      ]
     },
     "execution_count": 63,
     "metadata": {},
     "output_type": "execute_result"
    }
   ],
   "source": [
    "DataVecs.shape"
   ]
  },
  {
   "cell_type": "code",
   "execution_count": 64,
   "metadata": {
    "collapsed": false
   },
   "outputs": [
    {
     "name": "stdout",
     "output_type": "stream",
     "text": [
      "[-0.00075793864  0.0014143679 -0.00064184136 -0.00065346044  0.00056638861\n",
      "  0.00013978773 -0.0018282468  0.0017588657  0.0001113221  0.00018784285\n",
      " -0.00074223369 -0.00066928662  0.00073860228  0.00085501474  0.00016556708\n",
      " -9.0846831e-05  0.00070181806  0.00039688861  0.00061576834 -0.0012330097\n",
      " -0.0010630462 -0.0010053299  0.00019288843  0.0011641654 -0.00031170713\n",
      "  0.00017208731 -0.0016305703 -0.0011764182 -0.0001937766  0.001173714\n",
      "  6.3467034e-05  0.00054574024 -9.1282753e-05 -0.00092442499  0.0013947285\n",
      " -0.00021962129  0.00024078352  0.00078113046  0.001029668 -0.00071157415\n",
      "  0.00062179888 -0.001304497 -0.0016066177  0.0009695506 -0.0021579545\n",
      " -0.00040158178 -0.0005142245  0.00036338295  0.0014638985  0.001876543\n",
      "  0.0014958521 -0.00077078031 -0.0013001869 -0.0012497451 -0.0011449946\n",
      "  6.7762397e-05  0.0013245822 -0.00024191016 -0.0010481758  0.00096087651\n",
      " -0.0020128712  0.00056193481 -0.00082835217  0.00040287977  0.0013398886\n",
      "  7.3834025e-05 -0.00057429292 -0.00033140801  0.0001934692 -0.00055170136\n",
      "  0.0017653627  0.001366328  0.00059084253 -0.00023970485  0.00088064457\n",
      " -0.00043315401 -0.00095371493 -0.00098680343  0.00094036494 -4.1690469e-06\n",
      " -0.00047889983 -0.00077758486 -0.00095416067 -0.00050130102  0.00054527033\n",
      "  0.00017371096  0.00071317776  0.0003244717 -7.3614882e-05 -0.0013962943\n",
      "  0.0017211515 -0.0012642955 -0.0009659727 -0.00097202317 -0.00076209408\n",
      "  0.00082763826 -0.0011814915 -0.00039089054  0.0013972711 -0.00013945776]\n"
     ]
    }
   ],
   "source": [
    "print DataVecs[0]"
   ]
  }
 ],
 "metadata": {
  "kernelspec": {
   "display_name": "Python 2",
   "language": "python",
   "name": "python2"
  },
  "language_info": {
   "codemirror_mode": {
    "name": "ipython",
    "version": 2
   },
   "file_extension": ".py",
   "mimetype": "text/x-python",
   "name": "python",
   "nbconvert_exporter": "python",
   "pygments_lexer": "ipython2",
   "version": "2.7.13"
  }
 },
 "nbformat": 4,
 "nbformat_minor": 2
}
